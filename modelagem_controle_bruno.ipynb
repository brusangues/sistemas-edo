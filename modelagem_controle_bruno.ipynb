{
 "cells": [
  {
   "cell_type": "code",
   "execution_count": 24,
   "metadata": {},
   "outputs": [],
   "source": [
    "import math\r\n",
    "import sympy as sym\r\n",
    "from IPython.display import display\r\n",
    "\r\n",
    "from sympy import linear_eq_to_matrix, linsolve"
   ]
  },
  {
   "cell_type": "code",
   "execution_count": 25,
   "metadata": {},
   "outputs": [],
   "source": [
    "# Se as raízes do polinômio característico são reais e diferentes, então definimos a solução como:\r\n",
    "\r\n",
    "def simulation1(a1,a2,x0,d):\r\n",
    "    # Constantes\r\n",
    "    a,b,t = sym.Symbol('a'), sym.Symbol('b'), sym.Symbol('t')\r\n",
    "\r\n",
    "    # Solução\r\n",
    "    sol = (a*sym.exp(a1*t)) + (b*sym.exp(a2*t))\r\n",
    "    print(\"Solução a1={} a2={}:\".format(a1,a2)); display(sol)\r\n",
    "\r\n",
    "    # Dadas as condições iniciais, é necessário calcular as váriáveis 'a' e 'b' a partir delas. Para x(0) = 5:\r\n",
    "    sol_t0 = sol.subs(t, 0)\r\n",
    "    print(\"Solução t=0:\"); display(sol_t0)\r\n",
    "\r\n",
    "    # A segunda condição inicial é dx(0)/dt = 2; a primeira derivada da função solução:\r\n",
    "    sol_prime = sym.diff( sol, t )\r\n",
    "    print(\"Solução Linha:\"); display(sol_prime)\r\n",
    "\r\n",
    "    # Calculando a derivada da função para t=0\r\n",
    "    sol_prime_t0 = sol_prime.subs(t, 0)\r\n",
    "    print(\"Solução Linha t=0:\"); display(sol_prime_t0)\r\n",
    "\r\n",
    "    # Igualar\r\n",
    "    eq1 = sol_t0 - x0\r\n",
    "    eq2 = sol_prime_t0 - d\r\n",
    "\r\n",
    "    # Resolver\r\n",
    "    Matrixes = linear_eq_to_matrix([eq1,eq2], [a,b])\r\n",
    "    final_solution = linsolve(Matrixes, [a,b])\r\n",
    "\r\n",
    "    print(\"Solução Final:\"); display(final_solution)"
   ]
  },
  {
   "cell_type": "code",
   "execution_count": 26,
   "metadata": {},
   "outputs": [
    {
     "name": "stdout",
     "output_type": "stream",
     "text": [
      "Solução a1=2 a2=3:\n"
     ]
    },
    {
     "data": {
      "text/latex": [
       "$\\displaystyle a e^{2 t} + b e^{3 t}$"
      ],
      "text/plain": [
       "a*exp(2*t) + b*exp(3*t)"
      ]
     },
     "metadata": {},
     "output_type": "display_data"
    },
    {
     "name": "stdout",
     "output_type": "stream",
     "text": [
      "Solução t=0:\n"
     ]
    },
    {
     "data": {
      "text/latex": [
       "$\\displaystyle a + b$"
      ],
      "text/plain": [
       "a + b"
      ]
     },
     "metadata": {},
     "output_type": "display_data"
    },
    {
     "name": "stdout",
     "output_type": "stream",
     "text": [
      "Solução Linha:\n"
     ]
    },
    {
     "data": {
      "text/latex": [
       "$\\displaystyle 2 a e^{2 t} + 3 b e^{3 t}$"
      ],
      "text/plain": [
       "2*a*exp(2*t) + 3*b*exp(3*t)"
      ]
     },
     "metadata": {},
     "output_type": "display_data"
    },
    {
     "name": "stdout",
     "output_type": "stream",
     "text": [
      "Solução Linha t=0:\n"
     ]
    },
    {
     "data": {
      "text/latex": [
       "$\\displaystyle 2 a + 3 b$"
      ],
      "text/plain": [
       "2*a + 3*b"
      ]
     },
     "metadata": {},
     "output_type": "display_data"
    },
    {
     "name": "stdout",
     "output_type": "stream",
     "text": [
      "Solução Final:\n"
     ]
    },
    {
     "data": {
      "text/latex": [
       "$\\displaystyle \\left\\{\\left( 13, \\  -8\\right)\\right\\}$"
      ],
      "text/plain": [
       "FiniteSet((13, -8))"
      ]
     },
     "metadata": {},
     "output_type": "display_data"
    }
   ],
   "source": [
    "# 1. α1 = 2 e α2 = 3, com condições iniciais x0 = 5 e dx0/dt = 2\r\n",
    "simulation1(a1=2, a2=3, x0=5, d=2)"
   ]
  },
  {
   "cell_type": "code",
   "execution_count": 27,
   "metadata": {},
   "outputs": [
    {
     "name": "stdout",
     "output_type": "stream",
     "text": [
      "Solução a1=-2 a2=-3:\n"
     ]
    },
    {
     "data": {
      "text/latex": [
       "$\\displaystyle a e^{- 2 t} + b e^{- 3 t}$"
      ],
      "text/plain": [
       "a*exp(-2*t) + b*exp(-3*t)"
      ]
     },
     "metadata": {},
     "output_type": "display_data"
    },
    {
     "name": "stdout",
     "output_type": "stream",
     "text": [
      "Solução t=0:\n"
     ]
    },
    {
     "data": {
      "text/latex": [
       "$\\displaystyle a + b$"
      ],
      "text/plain": [
       "a + b"
      ]
     },
     "metadata": {},
     "output_type": "display_data"
    },
    {
     "name": "stdout",
     "output_type": "stream",
     "text": [
      "Solução Linha:\n"
     ]
    },
    {
     "data": {
      "text/latex": [
       "$\\displaystyle - 2 a e^{- 2 t} - 3 b e^{- 3 t}$"
      ],
      "text/plain": [
       "-2*a*exp(-2*t) - 3*b*exp(-3*t)"
      ]
     },
     "metadata": {},
     "output_type": "display_data"
    },
    {
     "name": "stdout",
     "output_type": "stream",
     "text": [
      "Solução Linha t=0:\n"
     ]
    },
    {
     "data": {
      "text/latex": [
       "$\\displaystyle - 2 a - 3 b$"
      ],
      "text/plain": [
       "-2*a - 3*b"
      ]
     },
     "metadata": {},
     "output_type": "display_data"
    },
    {
     "name": "stdout",
     "output_type": "stream",
     "text": [
      "Solução Final:\n"
     ]
    },
    {
     "data": {
      "text/latex": [
       "$\\displaystyle \\left\\{\\left( 17, \\  -12\\right)\\right\\}$"
      ],
      "text/plain": [
       "FiniteSet((17, -12))"
      ]
     },
     "metadata": {},
     "output_type": "display_data"
    }
   ],
   "source": [
    "# 2. 𝛼1 = −2 e 𝛼2 = −3, com condições iniciais 𝑥0 = 5 e 𝑑𝑥0𝑑𝑡= 2\r\n",
    "simulation1(a1=-2, a2=-3, x0=5, d=2)"
   ]
  },
  {
   "cell_type": "code",
   "execution_count": 28,
   "metadata": {},
   "outputs": [],
   "source": [
    "# Raizes complexas\r\n",
    "\r\n",
    "def simulation2(a1,a2,x0,d):\r\n",
    "    # Constantes\r\n",
    "    a,b,t = sym.Symbol('a'), sym.Symbol('b'), sym.Symbol('t')\r\n",
    "\r\n",
    "    # Solução\r\n",
    "    #sol = (a*sym.exp(a1*t)) + (b*sym.exp(a2*t))\r\n",
    "    sol = (a*sym.exp(a1*t)) + (b*sym.exp(a2*t))\r\n",
    "    print(\"Solução a1={} a2={}:\".format(a1,a2)); display(sol)\r\n",
    "\r\n",
    "    # Dadas as condições iniciais, é necessário calcular as váriáveis 'a' e 'b' a partir delas. Para x(0) = 5:\r\n",
    "    sol_t0 = sol.subs(t, 0)\r\n",
    "    print(\"Solução t=0:\"); display(sol_t0)\r\n",
    "\r\n",
    "    # A segunda condição inicial é dx(0)/dt = 2; a primeira derivada da função solução:\r\n",
    "    sol_prime = sym.diff( sol, t )\r\n",
    "    print(\"Solução Linha:\"); display(sol_prime)\r\n",
    "\r\n",
    "    # Calculando a derivada da função para t=0\r\n",
    "    sol_prime_t0 = sol_prime.subs(t, 0)\r\n",
    "    print(\"Solução Linha t=0:\"); display(sol_prime_t0)\r\n",
    "\r\n",
    "    # Igualar\r\n",
    "    eq1 = sol_t0 - x0\r\n",
    "    eq2 = sol_prime_t0 - d\r\n",
    "\r\n",
    "    # Resolver\r\n",
    "    Matrixes = linear_eq_to_matrix([eq1,eq2], [a,b])\r\n",
    "    final_solution = linsolve(Matrixes, [a,b])\r\n",
    "\r\n",
    "    print(\"Solução Final:\"); display(final_solution)"
   ]
  },
  {
   "cell_type": "code",
   "execution_count": 29,
   "metadata": {},
   "outputs": [
    {
     "name": "stdout",
     "output_type": "stream",
     "text": [
      "Solução a1=2 + 7*I a2=2 - 7*I:\n"
     ]
    },
    {
     "data": {
      "text/latex": [
       "$\\displaystyle a e^{t \\left(2 + 7 i\\right)} + b e^{t \\left(2 - 7 i\\right)}$"
      ],
      "text/plain": [
       "a*exp(t*(2 + 7*I)) + b*exp(t*(2 - 7*I))"
      ]
     },
     "metadata": {},
     "output_type": "display_data"
    },
    {
     "name": "stdout",
     "output_type": "stream",
     "text": [
      "Solução t=0:\n"
     ]
    },
    {
     "data": {
      "text/latex": [
       "$\\displaystyle a + b$"
      ],
      "text/plain": [
       "a + b"
      ]
     },
     "metadata": {},
     "output_type": "display_data"
    },
    {
     "name": "stdout",
     "output_type": "stream",
     "text": [
      "Solução Linha:\n"
     ]
    },
    {
     "data": {
      "text/latex": [
       "$\\displaystyle a \\left(2 + 7 i\\right) e^{t \\left(2 + 7 i\\right)} + b \\left(2 - 7 i\\right) e^{t \\left(2 - 7 i\\right)}$"
      ],
      "text/plain": [
       "a*(2 + 7*I)*exp(t*(2 + 7*I)) + b*(2 - 7*I)*exp(t*(2 - 7*I))"
      ]
     },
     "metadata": {},
     "output_type": "display_data"
    },
    {
     "name": "stdout",
     "output_type": "stream",
     "text": [
      "Solução Linha t=0:\n"
     ]
    },
    {
     "data": {
      "text/latex": [
       "$\\displaystyle a \\left(2 + 7 i\\right) + b \\left(2 - 7 i\\right)$"
      ],
      "text/plain": [
       "a*(2 + 7*I) + b*(2 - 7*I)"
      ]
     },
     "metadata": {},
     "output_type": "display_data"
    },
    {
     "name": "stdout",
     "output_type": "stream",
     "text": [
      "Solução Final:\n"
     ]
    },
    {
     "data": {
      "text/latex": [
       "$\\displaystyle \\left\\{\\left( \\frac{5}{2} + \\frac{4 i}{7}, \\  \\frac{5}{2} - \\frac{4 i}{7}\\right)\\right\\}$"
      ],
      "text/plain": [
       "FiniteSet((5/2 + 4*I/7, 5/2 - 4*I/7))"
      ]
     },
     "metadata": {},
     "output_type": "display_data"
    }
   ],
   "source": [
    "#4) Sistema instável: 𝛼1 = 2 + 𝑗7 e 𝛼2 = 2 − 𝑗7, com condições iniciais 𝑥0 = 5 e 𝑑𝑥0/𝑑𝑡 = 2\r\n",
    "\r\n",
    "from sympy import *\r\n",
    "# Definindo variáveis complexas\r\n",
    "x1, x2, y1, y2 = symbols(\"x1 x2 y1 y2\", real=True)  \r\n",
    "x = x1 + I*x2\r\n",
    "y = y1 + I*y2\r\n",
    "x = x.subs(x1,2).subs(x2,7)\r\n",
    "y = y.subs(y1,2).subs(y2,-7)\r\n",
    "\r\n",
    "simulation2(a1=x, a2=y, x0=5, d=2)"
   ]
  },
  {
   "cell_type": "code",
   "execution_count": 30,
   "metadata": {},
   "outputs": [
    {
     "name": "stdout",
     "output_type": "stream",
     "text": [
      "Solução a1=-2 + 7*I a2=-2 - 7*I:\n"
     ]
    },
    {
     "data": {
      "text/latex": [
       "$\\displaystyle a e^{t \\left(-2 + 7 i\\right)} + b e^{t \\left(-2 - 7 i\\right)}$"
      ],
      "text/plain": [
       "a*exp(t*(-2 + 7*I)) + b*exp(t*(-2 - 7*I))"
      ]
     },
     "metadata": {},
     "output_type": "display_data"
    },
    {
     "name": "stdout",
     "output_type": "stream",
     "text": [
      "Solução t=0:\n"
     ]
    },
    {
     "data": {
      "text/latex": [
       "$\\displaystyle a + b$"
      ],
      "text/plain": [
       "a + b"
      ]
     },
     "metadata": {},
     "output_type": "display_data"
    },
    {
     "name": "stdout",
     "output_type": "stream",
     "text": [
      "Solução Linha:\n"
     ]
    },
    {
     "data": {
      "text/latex": [
       "$\\displaystyle a \\left(-2 + 7 i\\right) e^{t \\left(-2 + 7 i\\right)} + b \\left(-2 - 7 i\\right) e^{t \\left(-2 - 7 i\\right)}$"
      ],
      "text/plain": [
       "a*(-2 + 7*I)*exp(t*(-2 + 7*I)) + b*(-2 - 7*I)*exp(t*(-2 - 7*I))"
      ]
     },
     "metadata": {},
     "output_type": "display_data"
    },
    {
     "name": "stdout",
     "output_type": "stream",
     "text": [
      "Solução Linha t=0:\n"
     ]
    },
    {
     "data": {
      "text/latex": [
       "$\\displaystyle a \\left(-2 + 7 i\\right) + b \\left(-2 - 7 i\\right)$"
      ],
      "text/plain": [
       "a*(-2 + 7*I) + b*(-2 - 7*I)"
      ]
     },
     "metadata": {},
     "output_type": "display_data"
    },
    {
     "name": "stdout",
     "output_type": "stream",
     "text": [
      "Solução Final:\n"
     ]
    },
    {
     "data": {
      "text/latex": [
       "$\\displaystyle \\left\\{\\left( \\frac{5}{2} - \\frac{6 i}{7}, \\  \\frac{5}{2} + \\frac{6 i}{7}\\right)\\right\\}$"
      ],
      "text/plain": [
       "FiniteSet((5/2 - 6*I/7, 5/2 + 6*I/7))"
      ]
     },
     "metadata": {},
     "output_type": "display_data"
    }
   ],
   "source": [
    "#5) Sistema estável: 𝛼1 = −2 + 𝑗7 e 𝛼2 = −2 − 𝑗7, com condições iniciais 𝑥0 = 5 e 𝑑𝑥0/𝑑𝑡 = 2\r\n",
    "\r\n",
    "# Definindo variáveis complexas\r\n",
    "x1, x2, y1, y2 = symbols(\"x1 x2 y1 y2\", real=True)  \r\n",
    "x = x1 + I*x2\r\n",
    "y = y1 + I*y2\r\n",
    "x = x.subs(x1,-2).subs(x2,7)\r\n",
    "y = y.subs(y1,-2).subs(y2,-7)\r\n",
    "\r\n",
    "simulation2(a1=x, a2=y, x0=5, d=2)"
   ]
  }
 ],
 "metadata": {
  "interpreter": {
   "hash": "58a6b9d8bb4be80dfc21caef415af95061d7c79bd270ba52d4db22123b3f5ce9"
  },
  "kernelspec": {
   "display_name": "Python 3.6.13 64-bit ('itau': conda)",
   "name": "python3"
  },
  "language_info": {
   "codemirror_mode": {
    "name": "ipython",
    "version": 3
   },
   "file_extension": ".py",
   "mimetype": "text/x-python",
   "name": "python",
   "nbconvert_exporter": "python",
   "pygments_lexer": "ipython3",
   "version": "3.6.13"
  }
 },
 "nbformat": 4,
 "nbformat_minor": 4
}