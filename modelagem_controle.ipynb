{
 "cells": [
  {
   "cell_type": "code",
   "execution_count": 1,
   "metadata": {},
   "outputs": [],
   "source": [
    "import math\n",
    "import sympy as sym"
   ]
  },
  {
   "cell_type": "code",
   "execution_count": 2,
   "metadata": {},
   "outputs": [],
   "source": [
    "# Se as raízes do polinômio característico são reais e diferentes, então definimos a solução \n",
    "# como:\n",
    "a,b = sym.Symbol('a'), sym.Symbol('b')\n",
    "def solucao(t):\n",
    "    sol = (a*math.exp(2*t)) + (b*math.exp(3*t))\n",
    "    return sol"
   ]
  },
  {
   "cell_type": "code",
   "execution_count": 3,
   "metadata": {},
   "outputs": [
    {
     "name": "stdout",
     "output_type": "stream",
     "text": [
      "1.0*a + 1.0*b\n"
     ]
    }
   ],
   "source": [
    "# Dadas as condições iniciais, é necessário calcular as váriáveis 'a' e 'b' a partir delas. \n",
    "# Para x(0) = 5:\n",
    "sol_t0 = solucao(0)\n",
    "print(sol_t0)"
   ]
  },
  {
   "cell_type": "code",
   "execution_count": 4,
   "metadata": {},
   "outputs": [
    {
     "name": "stdout",
     "output_type": "stream",
     "text": [
      "2*a*exp(2*t) + 3*b*exp(3*t)\n"
     ]
    }
   ],
   "source": [
    "# A segunda condição inicial é dx(0)/dt = 2; a primeira derivada da função solução:\n",
    "t = sym.Symbol('t')\n",
    "sol_prime = sym.diff(\n",
    "    (a*sym.exp(2*t)) + (b*sym.exp(3*t)),\n",
    "    t)\n",
    "print(sol_prime)"
   ]
  },
  {
   "cell_type": "code",
   "execution_count": 5,
   "metadata": {},
   "outputs": [],
   "source": [
    "# Calculando a derivada da função para t=0\n",
    "def solucao_prime(t):\n",
    "    prime = 2*a*math.exp(2*t) + 3*b*math.exp(3*t)\n",
    "    return prime"
   ]
  },
  {
   "cell_type": "code",
   "execution_count": 6,
   "metadata": {},
   "outputs": [
    {
     "data": {
      "text/latex": [
       "$\\displaystyle 2.0 a + 3.0 b$"
      ],
      "text/plain": [
       "2.0*a + 3.0*b"
      ]
     },
     "execution_count": 6,
     "metadata": {},
     "output_type": "execute_result"
    }
   ],
   "source": [
    "solucao_prime(0)"
   ]
  },
  {
   "cell_type": "code",
   "execution_count": 7,
   "metadata": {},
   "outputs": [],
   "source": [
    "# Resolvendo o sistema formado pelas equações dadas pelas condições iniciais:\n",
    "\n"
   ]
  }
 ],
 "metadata": {
  "interpreter": {
   "hash": "4bd5d70b70e8d6ff1d24686bb05bc42a09e2153a63c774bd0c79edf402583637"
  },
  "kernelspec": {
   "display_name": "Python 3.6.9 64-bit ('flask-api': conda)",
   "name": "python3"
  },
  "language_info": {
   "name": "python",
   "version": ""
  }
 },
 "nbformat": 4,
 "nbformat_minor": 4
}