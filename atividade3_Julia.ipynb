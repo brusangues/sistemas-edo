{
 "cells": [
  {
   "cell_type": "code",
   "execution_count": 11,
   "metadata": {},
   "outputs": [],
   "source": [
    "import math\r\n",
    "import sympy as sym\r\n",
    "from IPython.display import display\r\n",
    "\r\n",
    "from sympy import linear_eq_to_matrix, linsolve\r\n",
    "\r\n",
    "from sympy import symbols\r\n",
    "from sympy.plotting import plot\r\n",
    "\r\n",
    "from sympy import *"
   ]
  },
  {
   "cell_type": "code",
   "execution_count": 12,
   "metadata": {},
   "outputs": [],
   "source": [
    "def simulation(a1,a2,x0,d):\r\n",
    "    # Define os símbolos a, b e t\r\n",
    "    a,b,t = sym.Symbol('a'), sym.Symbol('b'), sym.Symbol('t')\r\n",
    "\r\n",
    "    # Define a forma da solução geral para os valores dados de a1 e a2 (reais e diferentes; imaginários)\r\n",
    "    sol = (a*sym.exp(a1*t)) + (b*sym.exp(a2*t))\r\n",
    "    print(\"Solução geral para raízes a1={} a2={}:\".format(a1,a2)); display(sol)\r\n",
    "\r\n",
    "    # Dadas as condições iniciais, é necessário calcular as váriáveis 'a' e 'b' a partir delas.\r\n",
    "    # Calculando x(t) para t=0:\r\n",
    "    sol_t0 = sol.subs(t, 0)\r\n",
    "    print(\"x(0): \"); display(sol_t0)\r\n",
    "\r\n",
    "    # A segunda condição inicial é dada a partir da derivada de x(t) em relação a t:\r\n",
    "    sol_prime = sym.diff( sol, t )\r\n",
    "    print(\"dx(t)/dt: \"); display(sol_prime)\r\n",
    "\r\n",
    "    # Calculando a derivada da função para t=0\r\n",
    "    sol_prime_t0 = sol_prime.subs(t, 0)\r\n",
    "    print(\"dx(0)/dt: \"); display(sol_prime_t0)\r\n",
    "\r\n",
    "    # Iguala as equações às condições iniciais dadas (x(0)=5 e dx(0)/dt=2):\r\n",
    "    eq1 = sol_t0 - x0\r\n",
    "    eq2 = sol_prime_t0 - d\r\n",
    "\r\n",
    "    # Resolve o sistema de 2 equações para 'a' e 'b':\r\n",
    "    Matrixes = linear_eq_to_matrix([eq1,eq2], [a,b])\r\n",
    "    final_solution = linsolve(Matrixes, [a,b])\r\n",
    "\r\n",
    "    print(\"Solução Final:\"); display(final_solution)\r\n",
    "\r\n",
    "    return sol, final_solution\r\n",
    "\r\n",
    "def result_plotting(eq, coefficients):\r\n",
    "    # Substituindo 'a' e 'b' calculados pelas c.i.'s na equação da solução geral:\r\n",
    "    a,b = sym.Symbol('a'), sym.Symbol('b')\r\n",
    "    a_ = coefficients.args[0][0]\r\n",
    "    b_ = coefficients.args[0][1]\r\n",
    "\r\n",
    "    eq = eq.subs(a, a_).subs(b, b_)\r\n",
    "\r\n",
    "    print(\"\\t\\t\\tSolução: \"); display(eq)\r\n",
    "\r\n",
    "    # Plota o gráfico de x(t) x t\r\n",
    "    p1 = plot(eq, show=False)\r\n",
    "    p1.show()"
   ]
  },
  {
   "cell_type": "code",
   "execution_count": 13,
   "metadata": {},
   "outputs": [
    {
     "name": "stdout",
     "output_type": "stream",
     "text": [
      "Solução geral para raízes a1=2 a2=3:\n"
     ]
    },
    {
     "data": {
      "text/latex": [
       "$\\displaystyle a e^{2 t} + b e^{3 t}$"
      ],
      "text/plain": [
       "a*exp(2*t) + b*exp(3*t)"
      ]
     },
     "metadata": {},
     "output_type": "display_data"
    },
    {
     "name": "stdout",
     "output_type": "stream",
     "text": [
      "x(0): \n"
     ]
    },
    {
     "data": {
      "text/latex": [
       "$\\displaystyle a + b$"
      ],
      "text/plain": [
       "a + b"
      ]
     },
     "metadata": {},
     "output_type": "display_data"
    },
    {
     "name": "stdout",
     "output_type": "stream",
     "text": [
      "dx(t)/dt: \n"
     ]
    },
    {
     "data": {
      "text/latex": [
       "$\\displaystyle 2 a e^{2 t} + 3 b e^{3 t}$"
      ],
      "text/plain": [
       "2*a*exp(2*t) + 3*b*exp(3*t)"
      ]
     },
     "metadata": {},
     "output_type": "display_data"
    },
    {
     "name": "stdout",
     "output_type": "stream",
     "text": [
      "dx(0)/dt: \n"
     ]
    },
    {
     "data": {
      "text/latex": [
       "$\\displaystyle 2 a + 3 b$"
      ],
      "text/plain": [
       "2*a + 3*b"
      ]
     },
     "metadata": {},
     "output_type": "display_data"
    },
    {
     "name": "stdout",
     "output_type": "stream",
     "text": [
      "Solução Final:\n"
     ]
    },
    {
     "data": {
      "text/latex": [
       "$\\displaystyle \\left\\{\\left( 13, \\  -8\\right)\\right\\}$"
      ],
      "text/plain": [
       "FiniteSet((13, -8))"
      ]
     },
     "metadata": {},
     "output_type": "display_data"
    }
   ],
   "source": [
    "# 1. α1 = 2 e α2 = 3, com condições iniciais x0 = 5 e dx0/dt = 2\r\n",
    "eq, coefficients = simulation(a1=2, a2=3, x0=5, d=2)"
   ]
  },
  {
   "cell_type": "code",
   "execution_count": 14,
   "metadata": {},
   "outputs": [
    {
     "name": "stdout",
     "output_type": "stream",
     "text": [
      "\t\t\tSolução: \n"
     ]
    },
    {
     "data": {
      "text/latex": [
       "$\\displaystyle - 8 e^{3 t} + 13 e^{2 t}$"
      ],
      "text/plain": [
       "-8*exp(3*t) + 13*exp(2*t)"
      ]
     },
     "metadata": {},
     "output_type": "display_data"
    },
    {
     "data": {
      "image/png": "[encoded data removed]",
      "text/plain": [
       "<Figure size 432x288 with 1 Axes>"
      ]
     },
     "metadata": {
      "needs_background": "light"
     },
     "output_type": "display_data"
    }
   ],
   "source": [
    "#2.\r\n",
    "result_plotting(eq, coefficients)"
   ]
  },
  {
   "cell_type": "code",
   "execution_count": 15,
   "metadata": {},
   "outputs": [
    {
     "name": "stdout",
     "output_type": "stream",
     "text": [
      "Solução geral para raízes a1=-2 a2=-3:\n"
     ]
    },
    {
     "data": {
      "text/latex": [
       "$\\displaystyle a e^{- 2 t} + b e^{- 3 t}$"
      ],
      "text/plain": [
       "a*exp(-2*t) + b*exp(-3*t)"
      ]
     },
     "metadata": {},
     "output_type": "display_data"
    },
    {
     "name": "stdout",
     "output_type": "stream",
     "text": [
      "x(0): \n"
     ]
    },
    {
     "data": {
      "text/latex": [
       "$\\displaystyle a + b$"
      ],
      "text/plain": [
       "a + b"
      ]
     },
     "metadata": {},
     "output_type": "display_data"
    },
    {
     "name": "stdout",
     "output_type": "stream",
     "text": [
      "dx(t)/dt: \n"
     ]
    },
    {
     "data": {
      "text/latex": [
       "$\\displaystyle - 2 a e^{- 2 t} - 3 b e^{- 3 t}$"
      ],
      "text/plain": [
       "-2*a*exp(-2*t) - 3*b*exp(-3*t)"
      ]
     },
     "metadata": {},
     "output_type": "display_data"
    },
    {
     "name": "stdout",
     "output_type": "stream",
     "text": [
      "dx(0)/dt: \n"
     ]
    },
    {
     "data": {
      "text/latex": [
       "$\\displaystyle - 2 a - 3 b$"
      ],
      "text/plain": [
       "-2*a - 3*b"
      ]
     },
     "metadata": {},
     "output_type": "display_data"
    },
    {
     "name": "stdout",
     "output_type": "stream",
     "text": [
      "Solução Final:\n"
     ]
    },
    {
     "data": {
      "text/latex": [
       "$\\displaystyle \\left\\{\\left( 17, \\  -12\\right)\\right\\}$"
      ],
      "text/plain": [
       "FiniteSet((17, -12))"
      ]
     },
     "metadata": {},
     "output_type": "display_data"
    }
   ],
   "source": [
    "# 2. 𝛼1 = −2 e 𝛼2 = −3, com condições iniciais 𝑥0 = 5 e 𝑑𝑥0𝑑𝑡= 2\r\n",
    "eq, coefficients = simulation(a1=-2, a2=-3, x0=5, d=2)"
   ]
  },
  {
   "cell_type": "code",
   "execution_count": 16,
   "metadata": {},
   "outputs": [
    {
     "name": "stdout",
     "output_type": "stream",
     "text": [
      "\t\t\tSolução: \n"
     ]
    },
    {
     "data": {
      "text/latex": [
       "$\\displaystyle 17 e^{- 2 t} - 12 e^{- 3 t}$"
      ],
      "text/plain": [
       "17*exp(-2*t) - 12*exp(-3*t)"
      ]
     },
     "metadata": {},
     "output_type": "display_data"
    },
    {
     "data": {
      "image/png": "[encoded data removed]",
      "text/plain": [
       "<Figure size 432x288 with 1 Axes>"
      ]
     },
     "metadata": {
      "needs_background": "light"
     },
     "output_type": "display_data"
    }
   ],
   "source": [
    "#3.\r\n",
    "result_plotting(eq, coefficients)\r\n"
   ]
  },
  {
   "cell_type": "code",
   "execution_count": 17,
   "metadata": {},
   "outputs": [
    {
     "name": "stdout",
     "output_type": "stream",
     "text": [
      "Solução geral para raízes a1=2 + 7*I a2=2 - 7*I:\n"
     ]
    },
    {
     "data": {
      "text/latex": [
       "$\\displaystyle a e^{t \\left(2 + 7 i\\right)} + b e^{t \\left(2 - 7 i\\right)}$"
      ],
      "text/plain": [
       "a*exp(t*(2 + 7*I)) + b*exp(t*(2 - 7*I))"
      ]
     },
     "metadata": {},
     "output_type": "display_data"
    },
    {
     "name": "stdout",
     "output_type": "stream",
     "text": [
      "x(0): \n"
     ]
    },
    {
     "data": {
      "text/latex": [
       "$\\displaystyle a + b$"
      ],
      "text/plain": [
       "a + b"
      ]
     },
     "metadata": {},
     "output_type": "display_data"
    },
    {
     "name": "stdout",
     "output_type": "stream",
     "text": [
      "dx(t)/dt: \n"
     ]
    },
    {
     "data": {
      "text/latex": [
       "$\\displaystyle a \\left(2 + 7 i\\right) e^{t \\left(2 + 7 i\\right)} + b \\left(2 - 7 i\\right) e^{t \\left(2 - 7 i\\right)}$"
      ],
      "text/plain": [
       "a*(2 + 7*I)*exp(t*(2 + 7*I)) + b*(2 - 7*I)*exp(t*(2 - 7*I))"
      ]
     },
     "metadata": {},
     "output_type": "display_data"
    },
    {
     "name": "stdout",
     "output_type": "stream",
     "text": [
      "dx(0)/dt: \n"
     ]
    },
    {
     "data": {
      "text/latex": [
       "$\\displaystyle a \\left(2 + 7 i\\right) + b \\left(2 - 7 i\\right)$"
      ],
      "text/plain": [
       "a*(2 + 7*I) + b*(2 - 7*I)"
      ]
     },
     "metadata": {},
     "output_type": "display_data"
    },
    {
     "name": "stdout",
     "output_type": "stream",
     "text": [
      "Solução Final:\n"
     ]
    },
    {
     "data": {
      "text/latex": [
       "$\\displaystyle \\left\\{\\left( \\frac{5}{2} + \\frac{4 i}{7}, \\  \\frac{5}{2} - \\frac{4 i}{7}\\right)\\right\\}$"
      ],
      "text/plain": [
       "FiniteSet((5/2 + 4*I/7, 5/2 - 4*I/7))"
      ]
     },
     "metadata": {},
     "output_type": "display_data"
    }
   ],
   "source": [
    "#4) Sistema instável: 𝛼1 = 2 + 𝑗7 e 𝛼2 = 2 − 𝑗7, com condições iniciais 𝑥0 = 5 e 𝑑𝑥0/𝑑𝑡 = 2\r\n",
    "\r\n",
    "# Definindo valores complexos\r\n",
    "x1, x2, y1, y2 = symbols(\"x1 x2 y1 y2\", real=True)\r\n",
    "x = x1 + I*x2\r\n",
    "y = y1 + I*y2\r\n",
    "x = x.subs(x1,2).subs(x2,7)\r\n",
    "y = y.subs(y1,2).subs(y2,-7)\r\n",
    "\r\n",
    "eq, coefficients = simulation(a1=x, a2=y, x0=5, d=2)"
   ]
  },
  {
   "cell_type": "code",
   "execution_count": 18,
   "metadata": {},
   "outputs": [
    {
     "name": "stdout",
     "output_type": "stream",
     "text": [
      "\t\t\tSolução: \n"
     ]
    },
    {
     "data": {
      "text/latex": [
       "$\\displaystyle \\left(\\frac{5}{2} - \\frac{4 i}{7}\\right) e^{t \\left(2 - 7 i\\right)} + \\left(\\frac{5}{2} + \\frac{4 i}{7}\\right) e^{t \\left(2 + 7 i\\right)}$"
      ],
      "text/plain": [
       "(5/2 - 4*I/7)*exp(t*(2 - 7*I)) + (5/2 + 4*I/7)*exp(t*(2 + 7*I))"
      ]
     },
     "metadata": {},
     "output_type": "display_data"
    },
    {
     "data": {
      "image/png": "[encoded data removed]",
      "text/plain": [
       "<Figure size 432x288 with 1 Axes>"
      ]
     },
     "metadata": {
      "needs_background": "light"
     },
     "output_type": "display_data"
    }
   ],
   "source": [
    "#4.\r\n",
    "result_plotting(eq, coefficients)"
   ]
  },
  {
   "cell_type": "code",
   "execution_count": 19,
   "metadata": {},
   "outputs": [
    {
     "name": "stdout",
     "output_type": "stream",
     "text": [
      "Solução geral para raízes a1=-2 + 7*I a2=-2 - 7*I:\n"
     ]
    },
    {
     "data": {
      "text/latex": [
       "$\\displaystyle a e^{t \\left(-2 + 7 i\\right)} + b e^{t \\left(-2 - 7 i\\right)}$"
      ],
      "text/plain": [
       "a*exp(t*(-2 + 7*I)) + b*exp(t*(-2 - 7*I))"
      ]
     },
     "metadata": {},
     "output_type": "display_data"
    },
    {
     "name": "stdout",
     "output_type": "stream",
     "text": [
      "x(0): \n"
     ]
    },
    {
     "data": {
      "text/latex": [
       "$\\displaystyle a + b$"
      ],
      "text/plain": [
       "a + b"
      ]
     },
     "metadata": {},
     "output_type": "display_data"
    },
    {
     "name": "stdout",
     "output_type": "stream",
     "text": [
      "dx(t)/dt: \n"
     ]
    },
    {
     "data": {
      "text/latex": [
       "$\\displaystyle a \\left(-2 + 7 i\\right) e^{t \\left(-2 + 7 i\\right)} + b \\left(-2 - 7 i\\right) e^{t \\left(-2 - 7 i\\right)}$"
      ],
      "text/plain": [
       "a*(-2 + 7*I)*exp(t*(-2 + 7*I)) + b*(-2 - 7*I)*exp(t*(-2 - 7*I))"
      ]
     },
     "metadata": {},
     "output_type": "display_data"
    },
    {
     "name": "stdout",
     "output_type": "stream",
     "text": [
      "dx(0)/dt: \n"
     ]
    },
    {
     "data": {
      "text/latex": [
       "$\\displaystyle a \\left(-2 + 7 i\\right) + b \\left(-2 - 7 i\\right)$"
      ],
      "text/plain": [
       "a*(-2 + 7*I) + b*(-2 - 7*I)"
      ]
     },
     "metadata": {},
     "output_type": "display_data"
    },
    {
     "name": "stdout",
     "output_type": "stream",
     "text": [
      "Solução Final:\n"
     ]
    },
    {
     "data": {
      "text/latex": [
       "$\\displaystyle \\left\\{\\left( \\frac{5}{2} - \\frac{6 i}{7}, \\  \\frac{5}{2} + \\frac{6 i}{7}\\right)\\right\\}$"
      ],
      "text/plain": [
       "FiniteSet((5/2 - 6*I/7, 5/2 + 6*I/7))"
      ]
     },
     "metadata": {},
     "output_type": "display_data"
    }
   ],
   "source": [
    "#5) Sistema estável: 𝛼1 = −2 + 𝑗7 e 𝛼2 = −2 − 𝑗7, com condições iniciais 𝑥0 = 5 e 𝑑𝑥0/𝑑𝑡 = 2\r\n",
    "\r\n",
    "# Definindo valores complexos\r\n",
    "x1, x2, y1, y2 = symbols(\"x1 x2 y1 y2\", real=True)  \r\n",
    "x = x1 + I*x2\r\n",
    "y = y1 + I*y2\r\n",
    "x = x.subs(x1,-2).subs(x2,7)\r\n",
    "y = y.subs(y1,-2).subs(y2,-7)\r\n",
    "\r\n",
    "eq, coefficients = simulation(a1=x, a2=y, x0=5, d=2)"
   ]
  },
  {
   "cell_type": "code",
   "execution_count": 20,
   "metadata": {},
   "outputs": [
    {
     "name": "stdout",
     "output_type": "stream",
     "text": [
      "\t\t\tSolução: \n"
     ]
    },
    {
     "data": {
      "text/latex": [
       "$\\displaystyle \\left(\\frac{5}{2} + \\frac{6 i}{7}\\right) e^{t \\left(-2 - 7 i\\right)} + \\left(\\frac{5}{2} - \\frac{6 i}{7}\\right) e^{t \\left(-2 + 7 i\\right)}$"
      ],
      "text/plain": [
       "(5/2 + 6*I/7)*exp(t*(-2 - 7*I)) + (5/2 - 6*I/7)*exp(t*(-2 + 7*I))"
      ]
     },
     "metadata": {},
     "output_type": "display_data"
    },
    {
     "data": {
      "image/png": "[encoded data removed]",
      "text/plain": [
       "<Figure size 432x288 with 1 Axes>"
      ]
     },
     "metadata": {
      "needs_background": "light"
     },
     "output_type": "display_data"
    }
   ],
   "source": [
    "#5.\r\n",
    "result_plotting(eq, coefficients)"
   ]
  }
 ],
 "metadata": {
  "interpreter": {
   "hash": "58a6b9d8bb4be80dfc21caef415af95061d7c79bd270ba52d4db22123b3f5ce9"
  },
  "kernelspec": {
   "display_name": "Python 3.6.13 64-bit ('itau': conda)",
   "name": "python3"
  },
  "language_info": {
   "name": "python",
   "version": ""
  }
 },
 "nbformat": 4,
 "nbformat_minor": 4
}